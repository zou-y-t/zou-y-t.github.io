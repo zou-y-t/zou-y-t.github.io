{
 "cells": [
  {
   "cell_type": "markdown",
   "metadata": {},
   "source": [
    "# Coin toss game\n",
    "Two gamblers are playing a coin toss game. Gambler A has (n+1) fair coins; B has n fair coins. What is the probability that A will have more heads than B if both flip all their coins?\n",
    "\n",
    "Remove a coin of A and compare the number of heads in A's first n coins with B's n coins. Let N(A) be the number of heads in A's first n coins and N(B) be B's. There are three possible outcomes:\n",
    "\n",
    "- $E_1$: $N(A) < N(B)$\n",
    "- $E_2$: $N(A) = N(B)$\n",
    "- $E_3$: $N(A) > N(B)$\n",
    "\n",
    "The coins are fair, and by symmetry, $P(E_1) = P(E_3)$. Therefore, when adding one more coin, the probability that A will have more heads than B is $P(E_3) + P(E_2) \\frac{1}{2} = P(E_3) + P(E_2) \\cdot \\frac{1}{2} = \\frac{1}{2}$."
   ]
  },
  {
   "cell_type": "code",
   "execution_count": 117,
   "metadata": {},
   "outputs": [
    {
     "name": "stdout",
     "output_type": "stream",
     "text": [
      "the probility of A has more heads is: 0.5007\n",
      "the theoretical probility is: 0.5\n",
      "the error is: 0.07000000000000339%\n"
     ]
    }
   ],
   "source": [
    "import random\n",
    "import numba\n",
    "\n",
    "n=100\n",
    "N=10000\n",
    "Awin=0\n",
    "\n",
    "@numba.jit\n",
    "def a_round():\n",
    "    N_A=0\n",
    "    N_B=0\n",
    "    for i in range(n+1):\n",
    "        if random.random() < 0.5:\n",
    "            N_A += 1\n",
    "\n",
    "    for i in range(n):\n",
    "        if random.random() < 0.5:\n",
    "            N_B += 1 \n",
    "\n",
    "    return N_A, N_B\n",
    "\n",
    "for i in range(N):\n",
    "    N_A, N_B = a_round()\n",
    "    if N_A > N_B:\n",
    "        Awin += 1\n",
    "\n",
    "print('the probility of A has more heads is: '+str(Awin/N))\n",
    "print('the theoretical probility is: '+str(1/2))\n",
    "print('the error is: '+str(100*abs(Awin/N-1/2))+'%')"
   ]
  },
  {
   "cell_type": "markdown",
   "metadata": {},
   "source": [
    "# Drunk passenger\n",
    "A line of 100 airline passengers are waiting to board a plane. They each hold a ticket to one of the 100 seats on that flight. For convenience, let's say that the n-th passenger in line has a ticket for seat number n. Being drunk, the first person in line picks a random seat (equally likely for each seat). All of the other passengers are sober and will go to their proper seats unless it is already occupied; in that case, they will randomly choose a free seat. You're person number 100. What is the probability that you end up in your seat (i.e., seat 100)?\n",
    "\n",
    "Let's generalize this to n passengers. It can be observed that at each seating, there will be at most one displacement. In front of this displacement, everyone will sit in their assigned seats. Let $P_i$ be the probability that the n-th passenger will end up in their correct seat when the i-th passenger faces a random choice.\n",
    "\n",
    "$$\n",
    "\\begin{aligned}\n",
    "p_1&=\\frac{1}{n}(1+P_2+P_3+\\ldots+P_{n-1}) \\\\\n",
    "P_i&=\\frac{1}{n-i+1}(1+P_{i+1}+P_{i+2}+\\ldots+P_{n-1}) \\\\\n",
    "\\implies&\n",
    "\\begin{cases}\n",
    "(n-i+1)P_i&=1+P_{i+1}+P_{i+2}+\\ldots+P_{n-1}&(1)\\\\\n",
    "(n-i)P_{i+1}&=1+P_{i+2}+P_{i+3}+\\ldots+P_{n-1}&(2)\\\\\n",
    "\\end{cases}\n",
    "\\\\\n",
    "(1)-(2)&\\implies (n-i+1)P_i=(n-i+1)P_{i+1} \\\\\n",
    "&\\implies P_i \\equiv P_{n-1}=\\frac{1}{2}\\\\\n",
    "\\end{aligned}\n",
    "$$\n",
    "So the probability of the n-th person ending up in their seat is $\\frac{1}{2}$"
   ]
  },
  {
   "cell_type": "code",
   "execution_count": 118,
   "metadata": {},
   "outputs": [
    {
     "name": "stdout",
     "output_type": "stream",
     "text": [
      "the probability of the last one being correct is: 0.5027\n",
      "the theoretical probability is: 0.5\n",
      "the error is: 0.27000000000000357%\n"
     ]
    }
   ],
   "source": [
    "import random\n",
    "import numba\n",
    "\n",
    "n = 1000\n",
    "N = 10000\n",
    "nCorrect = 0\n",
    "\n",
    "@numba.jit\n",
    "def a_round():\n",
    "    current = 0\n",
    "    while current < n - 1:\n",
    "        # There are n-current choices at the current position\n",
    "        next = current + random.randint(1, n - current)\n",
    "        current = (next + current) % n\n",
    "        if current == 0:\n",
    "            # If the first position is chosen before the last position, the last position is correct\n",
    "            return True\n",
    "    return False\n",
    "\n",
    "for i in range(N):\n",
    "    if a_round():\n",
    "        nCorrect += 1\n",
    "\n",
    "print('the probability of the last one being correct is: ' + str(nCorrect / N))\n",
    "print('the theoretical probability is: ' + str(1 / 2))\n",
    "print('the error is: ' + str(100*abs(nCorrect / N - 1 / 2)) + '%')"
   ]
  },
  {
   "cell_type": "code",
   "execution_count": 119,
   "metadata": {},
   "outputs": [
    {
     "name": "stdout",
     "output_type": "stream",
     "text": [
      "the probability of the last one being correct is: 0.5019\n",
      "the theoretical probability is: 0.5\n",
      "the error is: 0.19000000000000128%\n"
     ]
    }
   ],
   "source": [
    "import random\n",
    "\n",
    "n = 1000\n",
    "N = 10000\n",
    "nCorrect = 0\n",
    "\n",
    "def a_round():\n",
    "    seats = [0] * n\n",
    "    seats[random.randint(0, n-1)] = 1  # The first passenger randomly chooses a seat\n",
    "    for i in range(1, n-1):\n",
    "        if seats[i] == 0:\n",
    "            seats[i] = 1  # Passenger sits in their assigned seat\n",
    "        else:\n",
    "            available_seats = [j for j in range(n) if seats[j] == 0]\n",
    "            seats[random.choice(available_seats)] = 1  # Passenger randomly chooses an empty seat\n",
    "    return seats[n-1] == 0  # Check if the last seat is empty\n",
    "\n",
    "for i in range(N):\n",
    "    if a_round():\n",
    "        nCorrect += 1\n",
    "\n",
    "print('the probability of the last one being correct is: ' + str(nCorrect / N))\n",
    "print('the theoretical probability is: ' + str(1/2))\n",
    "print('the error is: ' + str(100*abs(nCorrect / N - 1/2)) + '%')\n"
   ]
  },
  {
   "cell_type": "markdown",
   "metadata": {},
   "source": [
    "# N points on a circle\n",
    "Given N points drawn randomly on the circumference of a circle, what is the probability that they are within a semicircle?\n",
    "\n",
    "Consider a point as the leftmost point in a clockwise arrangement (N possibilities). The other points must be within the right semicircle of this point in a clockwise arrangement. Since each point's distribution is independent and random, the probability that all points are within the specified region is $\\frac{1}{2^{N-1}}$. Thus, the total probability is $\\frac{N}{2^{N-1}}$. Extending this, the probability of being within $1/M$ of the circumference is $\\frac{N}{M^{N-1}}$."
   ]
  },
  {
   "cell_type": "code",
   "execution_count": 120,
   "metadata": {},
   "outputs": [
    {
     "name": "stdout",
     "output_type": "stream",
     "text": [
      "the probability is: 0.01949\n",
      "the theoretical probability is: 0.01953125\n",
      "the error is: 0.2112%\n"
     ]
    }
   ],
   "source": [
    "import numpy as np\n",
    "import numba\n",
    "\n",
    "n = 100000  # Number of repetitions\n",
    "N = 10  # Number of points\n",
    "devideNum = 10000 * N  # Number of divisions\n",
    "nCorrect = 0\n",
    "M = 2\n",
    "\n",
    "@numba.jit\n",
    "def a_round():\n",
    "    places = np.random.randint(0, devideNum, N)\n",
    "    places = np.sort(places)\n",
    "    max_gap = np.max(np.diff(places))\n",
    "    if max_gap > devideNum / M or places[-1] - places[0] < devideNum / M:\n",
    "        return True\n",
    "    else:\n",
    "        return False\n",
    "    \n",
    "@numba.jit\n",
    "def getTheoryAns(N, M):\n",
    "    return float(N / (pow(M, N - 1)))\n",
    "\n",
    "for i in range(n):\n",
    "    if a_round():\n",
    "        nCorrect += 1\n",
    "    \n",
    "print('the probability is: ' + str(nCorrect / n))\n",
    "print('the theoretical probability is: ' + str(getTheoryAns(N, M)))\n",
    "print('the error is: ' + str(100 * (abs(nCorrect * pow(M, N - 1) - N * n)) / (N * n)) + '%')\n"
   ]
  },
  {
   "cell_type": "markdown",
   "metadata": {},
   "source": [
    "# Chess tournament\n",
    "A chess tournament has $2^n$ players with skills $1\\gt2\\gt\\ldots\\gt 2^n$. It is organized as a knockout tournament, so that after each round only the winner proceeds to the next round. Except for the final, opponents in each round are drawn at random. Let's also assume that when two players meet in a game, the player with better skills always wins. What's the probability that players 1 and 2 will meet in the final?\n",
    "\n",
    "To solve this, we need to divide all players into two groups, each with $2^{n-1}$ players. The key is to ensure that players 1 and 2 are not in the same group. Each group is further divided into $2^{n-2}$ subgroups. For player 1, we can choose any group, then any subgroup, and finally an opponent. For player 2, we choose the other group, then any subgroup within that group, and finally an opponent. Therefore, the probability is:\n",
    "\n",
    "$$\n",
    "\\begin{aligned}\n",
    "P&=\\frac{(C_2^1\\cdot C_{2^{n-2}}^1\\cdot C_{2^n-2}^1)\\cdot(C_{2^{n-2}}^1\\cdot C_{2^n-3}^1)\\cdot(C_{2^n-4}^2\\cdot C_{2^n-6}^2\\cdot C_{2^n-8}^2\\ldots C_2^2)}{C_{2^n}^2\\cdot C_{2^n-2}^2\\cdot C_{2^n-4}^2\\ldots C_2^2} \\\\\\\\\n",
    "&=\\frac{2^n}{2(2^n-1)}\n",
    "\\end{aligned}\n",
    "$$"
   ]
  },
  {
   "cell_type": "code",
   "execution_count": 121,
   "metadata": {},
   "outputs": [
    {
     "name": "stdout",
     "output_type": "stream",
     "text": [
      "the probability is: 0.5015\n",
      "the theoretical probability is: 0.5004887585532747\n",
      "the error is: 0.2020507812499893%\n"
     ]
    }
   ],
   "source": [
    "import numpy as np\n",
    "\n",
    "n=10 # 一共2^n个人\n",
    "num=pow(2,n)\n",
    "N=10000 # 实验次数\n",
    "count=0\n",
    "\n",
    "def a_round():\n",
    "    playerList=np.linspace(1,num,num)\n",
    "    playerList=np.random.permutation(playerList)\n",
    "    index1=np.where(playerList==1)[0][0]\n",
    "    index2=np.where(playerList==2)[0][0]\n",
    "    if index1<=num/2 and index2>num/2:\n",
    "        return True\n",
    "    elif index1>num/2 and index2<=num/2:\n",
    "        return True\n",
    "    else:\n",
    "        return False\n",
    "    \n",
    "def getTheoryAns(n):\n",
    "    return float(pow(2,n-1)/(pow(2,n)-1))\n",
    "    \n",
    "for i in range(N):\n",
    "    if a_round():\n",
    "        count+=1\n",
    "\n",
    "print('the probability is: '+str(count/N))\n",
    "print('the theoretical probability is: '+str(getTheoryAns(n)))\n",
    "print('the error is: '+str(abs(count/N-getTheoryAns(n))/getTheoryAns(n)*100)+'%')\n"
   ]
  },
  {
   "cell_type": "markdown",
   "metadata": {},
   "source": [
    "# Application letters\n",
    "Let's  denote by $E_i,i=1,2,3,\\ldots,n$ the event that the i-th letter has the correct envelope. Then $P(\\bigcup^n_{i=1}E_i)$ is the probability that at least one letter has the correct envelope and $1-P(\\bigcup^n_{i=1}E_i)$ is the probability that all letters have the wrong envelopes. $P(\\bigcup^n_{i=1}E_i)$ can be caculated using the Inclusion-Exclusion Principle:\n",
    "\n",
    "$$\n",
    "\\begin{aligned}\n",
    "P(\\bigcup^n_{i=1}E_i)&=\\sum^n_{i=1}P(E_i)-\\sum_{i_1\\lt i_2}P(E_{i_1}E_{i_2})+\\ldots+(-1)^6P(E_1E_2\\ldots E_5) \\\\\n",
    "&=1-\\frac{1}{2!}+\\frac{1}{3!}-\\frac{1}{4!}+\\ldots+\\frac{(-1)^{n+1}}{n}\n",
    "\\end{aligned}\n",
    "$$"
   ]
  },
  {
   "cell_type": "code",
   "execution_count": 22,
   "metadata": {},
   "outputs": [
    {
     "name": "stdout",
     "output_type": "stream",
     "text": [
      "the probability is: 0.36788\n",
      "the theoretical probability is: 0.3678794411714421\n",
      "the error is: 0.0001519053514089647%\n"
     ]
    }
   ],
   "source": [
    "import numpy as np\n",
    "import math\n",
    "import numba\n",
    "\n",
    "n=100 # number of letters\n",
    "N=100000 # number of experiments\n",
    "count=0\n",
    "\n",
    "@numba.jit\n",
    "def a_round():\n",
    "    letterList = np.arange(1, n + 1)\n",
    "    envelopeList = np.arange(1, n + 1)\n",
    "    letterList = np.random.permutation(letterList)\n",
    "    for i in range(n):\n",
    "        if letterList[i] == envelopeList[i]:\n",
    "            return False\n",
    "    return True\n",
    "\n",
    "def getTheoryAns(n):\n",
    "    res=float(0)\n",
    "    for i in range(1,n+1):\n",
    "        res+=(pow(-1,i+1)*math.factorial(n)/math.factorial(i))\n",
    "    return 1-res/math.factorial(n)\n",
    "\n",
    "for i in range(N):\n",
    "    if a_round():\n",
    "        count+=1\n",
    "\n",
    "print('the probability is: '+str(count/N))\n",
    "print('the theoretical probability is: '+str(getTheoryAns(n)))\n",
    "print('the error is: '+str(abs(count/N-getTheoryAns(n))/getTheoryAns(n)*100)+'%')"
   ]
  },
  {
   "cell_type": "markdown",
   "metadata": {},
   "source": [
    "# Candies in a jar\n",
    "You are taking out candies one by one from a jar that has 10 red candies, and 30 green candies in it. What is the probability that there are at least 1 blue candy and 1 green candy left in the jar when you have taken out all the candies?\n",
    "\n",
    "Let $T_r,T_b,T_g$ be the number that the last red,blue,and green candies are taken out respectively. To have at least 1 blue candy and 1 green candy left when all the red candies are taken out, we need to have $T_r\\lt T_b$ and $T_r\\lt T_g$. In other words, we want to derive $P(T_r\\lt T_b \\bigcap T_r\\lt T_g)$. There are two mutually exclusive events that satisfy $T_r\\lt T_b$ and $T_r\\lt T_g$ : \n",
    "1. $T_r\\lt T_b\\lt T_g$\n",
    "2. $T_r\\lt T_g\\lt T_b$\n",
    "\n",
    "$T_r\\lt T_b\\lt T_g$ means that the last candy is green($T_g=60$). Since each of the 60 candies are equally likely to be the last candy and among them 30 are green ones, we have $P(T_g=60)=\\frac{30}{60}$. Conditioned on T_g=60, we need $P(T_r\\lt T_b|T_g=60)$. Among the 30 red and blue candies, each candy is again equally likely to be the last candy and there are 20 blue candies, so $P(T_r\\lt T_b|T_g=60)=\\frac{20}{30}$ and $P(T_r\\lt T_b\\lt T_g)=\\frac{30}{60}\\times\\frac{20}{30}$. Similarily, we have $P(T_r\\lt T_g\\lt T_b)=\\frac{20}{60}\\times\\frac{30}{40}$\n",
    "\n",
    "Hence,\n",
    "\n",
    "$P(T_r\\lt T_b \\bigcap T_r\\lt T_g)=\\frac{7}{12}$"
   ]
  },
  {
   "cell_type": "code",
   "execution_count": 34,
   "metadata": {},
   "outputs": [
    {
     "name": "stdout",
     "output_type": "stream",
     "text": [
      "the probability is: 0.5888\n",
      "the theoretical probability is: 0.5833333333333333\n",
      "the error is: 0.9371428571428684%\n"
     ]
    }
   ],
   "source": [
    "import numpy as np\n",
    "import numba\n",
    "\n",
    "r=10\n",
    "b=20\n",
    "g=30\n",
    "N=10000\n",
    "count=0\n",
    "\n",
    "@numba.jit\n",
    "def a_round():\n",
    "    balls=np.zeros(r+b+g)\n",
    "    balls[:r]=1\n",
    "    balls[r:r+b]=2\n",
    "    balls[r+b:]=3\n",
    "    balls=np.random.permutation(balls)\n",
    "    index1=np.where(balls==1)[0][-1]\n",
    "    index2=np.where(balls==2)[0][-1]\n",
    "    index3=np.where(balls==3)[0][-1]\n",
    "    if index1<index2 and index1<index3:\n",
    "        return True\n",
    "    else:\n",
    "        return False\n",
    "    \n",
    "def getTheoryAns(r,b,g):\n",
    "    return float((g/(r+b+g))*(b/(r+b))+(b/(r+b+g)*(g/(r+g))))\n",
    "\n",
    "for i in range(N):\n",
    "    if a_round():\n",
    "        count+=1\n",
    "\n",
    "print('the probability is: '+str(count/N))\n",
    "print('the theoretical probability is: '+str(getTheoryAns(r,b,g)))\n",
    "print('the error is: '+str(abs(count/N-getTheoryAns(r,b,g))/getTheoryAns(r,b,g)*100)+'%')\n",
    "        "
   ]
  },
  {
   "cell_type": "markdown",
   "metadata": {},
   "source": [
    "# Coin toss game\n",
    "Two players, A and B, alternatively toss a fair coin(A tosses the coin first, then B tosses the coin, then A, then B,...). The Sequence of the heads and tails is recorded. If there is a head followed by a tail(HT subsequence), the game ends and the person who tosses the tail wins. What is the probability that A wins the game?\n",
    "\n",
    "Let P(A) be the probability that A wins; then the probability that B wins is $P(B)=1-P(A)$. Let's condition P(A) on A's first toss, witch has 1/2 probability of H(heads) and 1/2 probability of T(tails).\n",
    "\n",
    "$$\n",
    "P(A)=\\frac{1}{2}P(A|H)+\\frac{1}{2}P(A|T) \\\\\n",
    "$$\n",
    "\n",
    "If A's first toss is T, then B essentially becomes the first to toss(An H is required for the HT subsequence). So we have $P(A|T)=P(B)=1-P(A)$\n",
    "\n",
    "If A's first toss ends in H, lets further condition on B's first toss. B has 1/2 probability of getting T, in taht case A loses. For the 1/2 pprobability that B gets H, B essentially becomes the first one to toss an H. In that case, A has $(1-P(A|H))$ probability of winning. So $P(A|H)=\\frac{1}{2}\\times 0+\\frac{1}{2}(1-P(A|H))\\implies P(A|H)=\\frac{1}{3}$\n",
    "\n",
    "Combining all the available information  we have \n",
    "\n",
    "$$\n",
    "P(A)=\\frac{1}{2}\\times\\frac{1}{3}+\\frac{1}{2}(1-P(a))\\implies P(A)=\\frac{4}{9} \\\\\n",
    "$$"
   ]
  },
  {
   "cell_type": "code",
   "execution_count": 8,
   "metadata": {},
   "outputs": [
    {
     "name": "stdout",
     "output_type": "stream",
     "text": [
      "the probability is: 0.4436\n",
      "the theoretical probability is: 0.4444444444444444\n",
      "the error is: 0.18999999999999573%\n"
     ]
    }
   ],
   "source": [
    "import numpy as np\n",
    "import random\n",
    "import numba\n",
    "\n",
    "N=10000\n",
    "count=0\n",
    "\n",
    "@numba.jit\n",
    "def a_round():\n",
    "    # return A wins or not\n",
    "    i=0\n",
    "    lastCoin=0\n",
    "    currentCoin=0\n",
    "    while lastCoin!=1 or currentCoin!=0:\n",
    "        lastCoin=currentCoin\n",
    "        currentCoin=random.randint(0,1)\n",
    "        i+=1\n",
    "        \n",
    "    return (i-1)&1==0\n",
    "\n",
    "def getTheoryAns():\n",
    "    return 4/9\n",
    "\n",
    "for i in range(N):\n",
    "    if a_round():\n",
    "        count+=1\n",
    "\n",
    "print('the probability is: '+str(count/N))\n",
    "print('the theoretical probability is: '+str(getTheoryAns()))\n",
    "print('the error is: '+str(abs(count/N-getTheoryAns())/getTheoryAns()*100)+'%')"
   ]
  }
 ],
 "metadata": {
  "kernelspec": {
   "display_name": "Python 3",
   "language": "python",
   "name": "python3"
  },
  "language_info": {
   "codemirror_mode": {
    "name": "ipython",
    "version": 3
   },
   "file_extension": ".py",
   "mimetype": "text/x-python",
   "name": "python",
   "nbconvert_exporter": "python",
   "pygments_lexer": "ipython3",
   "version": "3.12.2"
  }
 },
 "nbformat": 4,
 "nbformat_minor": 2
}
